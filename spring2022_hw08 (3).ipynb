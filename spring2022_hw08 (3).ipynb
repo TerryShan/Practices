{
 "cells": [
  {
   "cell_type": "markdown",
   "metadata": {
    "id": "RKsKh0avHqoc"
   },
   "source": [
    "## Homework 08:  Parallel Programming 01\n",
    "\n",
    "## Due Date: Apr 21, 2022, 04:00pm\n",
    "\n",
    "#### Firstname Lastname: Tianlin Shan\n",
    "\n",
    "#### E-mail: ts4271@nyu.edu\n",
    "\n",
    "#### Enter your solutions and submit this notebook"
   ]
  },
  {
   "cell_type": "markdown",
   "metadata": {
    "id": "-DtlgEKBHqoy"
   },
   "source": [
    "---\n",
    "\n",
    "**Problem 1 (50p)**\n",
    "\n",
    "Write an MPI program `sol08pr01.py` that does the following for some arbitrary number of processes $N \\geq 2$. Here the number of processes $N$ is given as `N` while calling the code `sol08pr01.py` as: \n",
    "\n",
    "`mpirun -n N python3 sol08pr01.py`\n",
    "\n",
    "\n",
    "Every process will contain one buffer with one integer variable, each of which is initialized to $0$.\n",
    "\n",
    "For $r=0, 1, \\dots, N - 1$, Process $r$ updates its buffer to the value received by $r-1$ (this should only be done for $r \\geq 1$), then it squares its rank $r$, adds the result $r^2$ to the value of its own buffer, and then sends the sum to Process $r + 1$. Note that for $r=N-1$ the result will be sent to Process $0$, i.e. by convention, Process $N$ is the same as Process $0$. At the end Process $0$ prints the received value. \n",
    "\n",
    "Provide results for: $N = 10$, $N = 15$, $N = 20$, $N = 25$. These are probably more than the available processes on your machine: you can use the option `--oversubscribe` in `mpirun` to let MPI run things anyway.\n",
    "\n",
    "\n",
    "\n",
    "**Note**: You can use either blocking or non-blocking operations.Make sure to provide adequate comments and documentation in the code. \n",
    "\n"
   ]
  },
  {
   "cell_type": "code",
   "execution_count": null,
   "metadata": {
    "colab": {
     "base_uri": "https://localhost:8080/"
    },
    "id": "Rb4mU_MCQhkG",
    "outputId": "8c45ad47-feef-4642-9b72-d7ef8ecc3832"
   },
   "outputs": [
    {
     "name": "stdout",
     "output_type": "stream",
     "text": [
      "Writing sol08pr01.py\n"
     ]
    }
   ],
   "source": [
    "%%writefile sol08pr01.py\n",
    "\n",
    "from mpi4py import MPI\n",
    "import numpy as np\n",
    "comm = MPI.COMM_WORLD     #communicator object which is used to communicate between processes\n",
    "rank = comm.Get_rank()\n",
    "size = comm.Get_size()\n",
    "data = 0\n",
    "if rank == 1:\n",
    "    data = 1\n",
    "    comm.send(data, dest=rank + 1, tag=11)\n",
    "else:\n",
    "    data = comm.recv(source=(rank + size - 1) % size, tag=11)\n",
    "    data += rank * rank;\n",
    "    comm.send(data, dest=(rank + 1) % size, tag=11 )\n",
    "    if rank == 0:\n",
    "        print('rev {} received at rank {}:'.format(data, rank))"
   ]
  },
  {
   "cell_type": "code",
   "execution_count": null,
   "metadata": {
    "colab": {
     "base_uri": "https://localhost:8080/"
    },
    "id": "UawuGfnaRWpE",
    "outputId": "484f5f99-5caa-4e9a-aebd-d384a060bbde"
   },
   "outputs": [
    {
     "name": "stdout",
     "output_type": "stream",
     "text": [
      "rev 285 received at rank 0:\n"
     ]
    }
   ],
   "source": [
    "!mpirun  --allow-run-as-root -n 10 python3 sol08pr01.py"
   ]
  },
  {
   "cell_type": "code",
   "execution_count": null,
   "metadata": {
    "colab": {
     "base_uri": "https://localhost:8080/"
    },
    "id": "oINdTc8tfm1e",
    "outputId": "a3014eb1-a3d1-4aa7-ffda-b16a3e638309"
   },
   "outputs": [
    {
     "name": "stdout",
     "output_type": "stream",
     "text": [
      "rev 1015 received at rank 0:\n"
     ]
    }
   ],
   "source": [
    "!mpirun --allow-run-as-root -n 15 python sol08pr01.py"
   ]
  },
  {
   "cell_type": "code",
   "execution_count": null,
   "metadata": {
    "colab": {
     "base_uri": "https://localhost:8080/"
    },
    "id": "61EMbJwUfm7M",
    "outputId": "a3bda153-73ef-48c5-9dc1-58f62a9e3934"
   },
   "outputs": [
    {
     "name": "stdout",
     "output_type": "stream",
     "text": [
      "rev 2470 received at rank 0:\n"
     ]
    }
   ],
   "source": [
    "!mpirun --allow-run-as-root -n 20 python sol08pr01.py"
   ]
  },
  {
   "cell_type": "code",
   "execution_count": null,
   "metadata": {
    "colab": {
     "base_uri": "https://localhost:8080/"
    },
    "id": "Mlr0NYHjfnAr",
    "outputId": "7d786e27-5895-4d1c-996c-ab87c428df17"
   },
   "outputs": [
    {
     "name": "stdout",
     "output_type": "stream",
     "text": [
      "rev 4900 received at rank 0:\n"
     ]
    }
   ],
   "source": [
    "!mpirun --allow-run-as-root -n 25 python sol08pr01.py"
   ]
  },
  {
   "cell_type": "markdown",
   "metadata": {
    "id": "5qryOmnNHqo2"
   },
   "source": [
    "---\n",
    "\n",
    "**Problem 2 (50p)**\n",
    "\n",
    "Write an MPI program that does the following. There are two processes 0 and 1 that have to exchange $T=10$ messages.  \n",
    "\n",
    "\n",
    "Process 0 initially reads two float variables from the standard input, call them $x, y$, and must ensure $x \\neq 0$ and $y \\neq 0$. For example this can be done as:\n",
    "\n",
    "```\n",
    "import sys\n",
    "\n",
    "\n",
    "for line in sys.stdin:\n",
    "    x = float(line)        \n",
    "    if x != 0.0:\n",
    "        break\n",
    "for line in sys.stdin:\n",
    "    y = float(line)        \n",
    "    if y != 0.0:\n",
    "        break\n",
    "```\n",
    "\n",
    "\n",
    "Both Process 0 and Process 1 will carry main results in an element that is part of a process buffer and called $p$. The value in $p$ is initially set to $1$. \n",
    "\n",
    "\n",
    "Now the exchange of messages is as follows.\n",
    "\n",
    "\n",
    "0. Message00: Process 0 multiplies its own value in $p$ by $x$ and sends the whole buffer to Process 1.\n",
    "\n",
    "1. Message01: Process 1 divides its own value in $p$ by $y$ and sends the whole buffer to Process 0.\n",
    "\n",
    "2. Message01: Process 0 multiplies its own value in $p$ by $x$ and sends the whole buffer to Process 1.\n",
    "\n",
    "3. Message02: Process 1 divides its own value in $p$ by $y$ and sends the whole buffer to Process 0.\n",
    "\n",
    "\n",
    "etc.\n",
    "\n",
    "8. Message08: Process 0 multiplies its own value in $p$ by $x$ and sends the whole buffer to Process 1.\n",
    "\n",
    "9. Message09: Process 1 divides its own value in $p$ by $y$ and sends the whole buffer to Process 0.\n",
    "\n",
    "Finally, Process 0 prints the value in $p$ as a final result. \n",
    "\n",
    "\n",
    "Write the code that implements the protocol above. Additionally, provide results for: $(x, y) = (2, 4)$, $(x, y) = (1, 3)$, $(x, y) = (5, 7)$ and $(x, y) = (5, 10)$.\n",
    "\n",
    "\n",
    "**Note**: You can use either blocking or non-blocking operations.Make sure to provide adequate comments and documentation in the code.\n",
    "\n"
   ]
  },
  {
   "cell_type": "code",
   "execution_count": null,
   "metadata": {
    "colab": {
     "base_uri": "https://localhost:8080/"
    },
    "id": "OMd2l5BkUOA4",
    "outputId": "7b5c2922-72af-484e-b29e-d8d97a711cb1"
   },
   "outputs": [
    {
     "name": "stdout",
     "output_type": "stream",
     "text": [
      "Overwriting sol08pr02.py\n"
     ]
    }
   ],
   "source": [
    "%%writefile sol08pr02.py\n",
    "\n",
    "from io import BufferedRandom\n",
    "from mpi4py import MPI\n",
    "import sys\n",
    "import numpy as np\n",
    "comm = MPI.COMM_WORLD\n",
    "rank = comm.Get_rank()\n",
    "size = comm.Get_size()\n",
    "buffer = [0.0,0.0,1.0]\n",
    "\n",
    "\n",
    "if rank == 0:\n",
    "    for line in sys.stdin:\n",
    "        x = float(line)\n",
    "        buffer[0] = x\n",
    "        if x != 0.0:\n",
    "            break\n",
    "\n",
    "    for line in sys.stdin:\n",
    "        y = float(line)\n",
    "        buffer[1] = x\n",
    "        if y != 0.0:\n",
    "            break\n",
    "    for i in range(5):\n",
    "        buffer[2] = buffer[2] * buffer[0]\n",
    "        comm.send(buffer, dest=1, tag=11)\n",
    "        buffer = comm.recv(source=1, tag=11)\n",
    "    print(\"p final result is {}\".format(buffer[2]))\n",
    "\n",
    "else:\n",
    "    for i in range(5):\n",
    "        buffer = comm.recv(source=0, tag=11)\n",
    "        buffer[1] = buffer[2] / buffer[1]\n",
    "        comm.send(buffer, dest= 0, tag=11)\n"
   ]
  },
  {
   "cell_type": "code",
   "execution_count": null,
   "metadata": {
    "id": "vAIj6ld7_dWG"
   },
   "outputs": [],
   "source": [
    "!mpirun --allow-run-as-root -n 2 python sol08pr02.py "
   ]
  }
 ],
 "metadata": {
  "colab": {
   "collapsed_sections": [],
   "name": "spring2022_hw08.ipynb",
   "provenance": []
  },
  "kernelspec": {
   "display_name": "Python 3",
   "language": "python",
   "name": "python3"
  },
  "language_info": {
   "codemirror_mode": {
    "name": "ipython",
    "version": 3
   },
   "file_extension": ".py",
   "mimetype": "text/x-python",
   "name": "python",
   "nbconvert_exporter": "python",
   "pygments_lexer": "ipython3",
   "version": "3.8.5"
  }
 },
 "nbformat": 4,
 "nbformat_minor": 1
}
